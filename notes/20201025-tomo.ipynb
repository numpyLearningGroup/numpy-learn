{
 "cells": [
  {
   "cell_type": "markdown",
   "metadata": {},
   "source": [
    "### **将 `arr`转换为2行的2维数组。**\n",
    "- `arr = np.arange(10)`\n",
    "\n",
    "【知识点：数组的操作】\n",
    "- 如何改变数组的形状？"
   ]
  },
  {
   "cell_type": "markdown",
   "metadata": {},
   "source": [
    "### **垂直堆叠数组a和数组b。**\n",
    "- `a = np.arange(10).reshape([2, -1])`\n",
    "- `b = np.repeat(1, 10).reshape([2, -1])`\n",
    "\n",
    "【知识点：数组操作】\n",
    "- 如何垂直叠加两个数组？"
   ]
  },
  {
   "cell_type": "markdown",
   "metadata": {},
   "source": [
    "### 将数组a与数组b水平堆叠。\n",
    "- `a = np.arange(10).reshape([2, -1])`\n",
    "- `b = np.repeat(1, 10).reshape([2, -1])`\n",
    "\n",
    "【知识点：数组的操作】\n",
    "- 如何水平叠加两个数组？"
   ]
  },
  {
   "cell_type": "markdown",
   "metadata": {},
   "source": [
    "### **将 `arr`的2维数组按列输出。**\n",
    "\n",
    "- `arr =  np.array([[16, 17, 18, 19, 20],[11, 12, 13, 14, 15],[21, 22, 23, 24, 25],[31, 32, 33, 34, 35],[26, 27, 28, 29, 30]])`\n",
    "\n",
    "【知识点：数组的操作】\n",
    "- 如何访问二维数组的全部元素，并按列输出？"
   ]
  },
  {
   "cell_type": "markdown",
   "metadata": {},
   "source": [
    "### **给定两个随机数组A和B，验证它们是否相等。**\n",
    "\n",
    "- `A = np.random.randint(0,2,5) B = np.random.randint(0,2,5)`\n",
    "\n",
    "【知识点：数组的操作】\n",
    "- np.allclose()"
   ]
  },
  {
   "cell_type": "markdown",
   "metadata": {},
   "source": [
    "### **在给定的numpy数组中找到重复的条目（第二次出现以后），并将它们标记为True。第一次出现应为False。**\n",
    "\n",
    "- `a = np.random.randint(0, 5, 10)`\n",
    "\n",
    "【知识点：数组操作】\n",
    "- 如何在numpy数组中找到重复值？"
   ]
  },
  {
   "cell_type": "code",
   "execution_count": 1,
   "metadata": {},
   "outputs": [],
   "source": [
    "import numpy as np"
   ]
  },
  {
   "cell_type": "code",
   "execution_count": 2,
   "metadata": {},
   "outputs": [
    {
     "name": "stdout",
     "output_type": "stream",
     "text": [
      "(10,)\n",
      "[[0 1 2 3 4]\n",
      " [5 6 7 8 9]]\n"
     ]
    }
   ],
   "source": [
    "arr = np.arange(10)\n",
    "print(arr.shape)\n",
    "arr.shape = (2, 5)\n",
    "print(arr)"
   ]
  },
  {
   "cell_type": "code",
   "execution_count": 3,
   "metadata": {},
   "outputs": [
    {
     "name": "stdout",
     "output_type": "stream",
     "text": [
      "[[0 1 2 3 4]\n",
      " [5 6 7 8 9]]\n",
      "[[1 1 1 1 1]\n",
      " [1 1 1 1 1]]\n",
      "[[0 1 2 3 4]\n",
      " [5 6 7 8 9]\n",
      " [1 1 1 1 1]\n",
      " [1 1 1 1 1]]\n"
     ]
    }
   ],
   "source": [
    "a = np.arange(10).reshape([2, -1])\n",
    "b = np.repeat(1, 10).reshape([2, -1])\n",
    "print(a)\n",
    "print(b)\n",
    "arr = np.concatenate((a, b), axis=0)\n",
    "print(arr)"
   ]
  },
  {
   "cell_type": "code",
   "execution_count": 4,
   "metadata": {},
   "outputs": [
    {
     "name": "stdout",
     "output_type": "stream",
     "text": [
      "[[0 1 2 3 4]\n",
      " [5 6 7 8 9]]\n",
      "[[1 1 1 1 1]\n",
      " [1 1 1 1 1]]\n",
      "[[0 1 2 3 4 1 1 1 1 1]\n",
      " [5 6 7 8 9 1 1 1 1 1]]\n"
     ]
    }
   ],
   "source": [
    "a = np.arange(10).reshape([2, -1])\n",
    "b = np.repeat(1, 10).reshape([2, -1])\n",
    "print(a)\n",
    "print(b)\n",
    "arr = np.concatenate((a, b), axis=1)\n",
    "print(arr)"
   ]
  },
  {
   "cell_type": "code",
   "execution_count": 5,
   "metadata": {},
   "outputs": [
    {
     "name": "stdout",
     "output_type": "stream",
     "text": [
      "[[16 17 18 19 20]\n",
      " [11 12 13 14 15]\n",
      " [21 22 23 24 25]\n",
      " [31 32 33 34 35]\n",
      " [26 27 28 29 30]]\n",
      "[16 11 21 31 26 17 12 22 32 27 18 13 23 33 28 19 14 24 34 29 20 15 25 35\n",
      " 30]\n"
     ]
    }
   ],
   "source": [
    "arr =  np.array([\n",
    "    [16, 17, 18, 19, 20],\n",
    "    [11, 12, 13, 14, 15],\n",
    "    [21, 22, 23, 24, 25],\n",
    "    [31, 32, 33, 34, 35],\n",
    "    [26, 27, 28, 29, 30]]\n",
    ")\n",
    "print(arr)\n",
    "new_arr = arr.flatten(order='F')\n",
    "print(new_arr)"
   ]
  },
  {
   "cell_type": "code",
   "execution_count": 6,
   "metadata": {},
   "outputs": [
    {
     "data": {
      "text/plain": [
       "False"
      ]
     },
     "execution_count": 6,
     "metadata": {},
     "output_type": "execute_result"
    }
   ],
   "source": [
    "A = np.random.randint(0,2,5)\n",
    "B = np.random.randint(0,2,5)\n",
    "np.allclose(A, B)"
   ]
  },
  {
   "cell_type": "code",
   "execution_count": 7,
   "metadata": {},
   "outputs": [
    {
     "name": "stdout",
     "output_type": "stream",
     "text": [
      "[1 2 0 3 3 1 0 1 2 4]\n",
      "[False False False False  True  True  True  True  True False]\n"
     ]
    }
   ],
   "source": [
    "a = np.random.randint(0, 5, 10)\n",
    "print(a)\n",
    "u, indices = np.unique(a, return_index=True)\n",
    "b = np.full(10, True)\n",
    "b[indices] = False\n",
    "print(b)"
   ]
  }
 ],
 "metadata": {
  "kernelspec": {
   "display_name": "Python 3",
   "language": "python",
   "name": "python3"
  },
  "language_info": {
   "codemirror_mode": {
    "name": "ipython",
    "version": 3
   },
   "file_extension": ".py",
   "mimetype": "text/x-python",
   "name": "python",
   "nbconvert_exporter": "python",
   "pygments_lexer": "ipython3",
   "version": "3.7.3"
  },
  "toc": {
   "base_numbering": 1,
   "nav_menu": {},
   "number_sections": true,
   "sideBar": true,
   "skip_h1_title": false,
   "title_cell": "Table of Contents",
   "title_sidebar": "Contents",
   "toc_cell": false,
   "toc_position": {},
   "toc_section_display": true,
   "toc_window_display": true
  },
  "varInspector": {
   "cols": {
    "lenName": 16,
    "lenType": 16,
    "lenVar": 40
   },
   "kernels_config": {
    "python": {
     "delete_cmd_postfix": "",
     "delete_cmd_prefix": "del ",
     "library": "var_list.py",
     "varRefreshCmd": "print(var_dic_list())"
    },
    "r": {
     "delete_cmd_postfix": ") ",
     "delete_cmd_prefix": "rm(",
     "library": "var_list.r",
     "varRefreshCmd": "cat(var_dic_list()) "
    }
   },
   "types_to_exclude": [
    "module",
    "function",
    "builtin_function_or_method",
    "instance",
    "_Feature"
   ],
   "window_display": false
  }
 },
 "nbformat": 4,
 "nbformat_minor": 4
}
