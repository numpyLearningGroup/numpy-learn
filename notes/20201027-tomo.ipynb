{
 "cells": [
  {
   "cell_type": "markdown",
   "metadata": {},
   "source": [
    "## 数学函数"
   ]
  },
  {
   "cell_type": "markdown",
   "metadata": {},
   "source": [
    "### **将数组a中大于30的值替换为30，小于10的值替换为10。**\n",
    "\n",
    "- `a = np.random.uniform(1, 50, 20)`\n",
    "\n",
    "【知识点：数学函数、搜索】\n",
    "- 如何将大于给定值的所有值替换为给定的截止值？"
   ]
  },
  {
   "cell_type": "code",
   "execution_count": 1,
   "metadata": {},
   "outputs": [
    {
     "name": "stdout",
     "output_type": "stream",
     "text": [
      "[34.34896895 23.44017286 25.11908712 47.3205887   3.14297062  7.64345724\n",
      " 18.82889173 24.6569773   2.43114722 25.35309246 29.60571949 18.93683517\n",
      "  2.65532194 22.10251623 47.01516235  2.76757778  7.71233147 22.68295149\n",
      "  6.17963107 28.99855841]\n",
      "[30.         23.44017286 25.11908712 30.         10.         10.\n",
      " 18.82889173 24.6569773  10.         25.35309246 29.60571949 18.93683517\n",
      " 10.         22.10251623 30.         10.         10.         22.68295149\n",
      " 10.         28.99855841]\n"
     ]
    }
   ],
   "source": [
    "import numpy as np\n",
    "a = np.random.uniform(1, 50, 20)\n",
    "print(a)\n",
    "print(np.clip(a, 10, 30))"
   ]
  },
  {
   "cell_type": "markdown",
   "metadata": {},
   "source": [
    "### **找到一个一维数字数组a中的所有峰值。峰顶是两边被较小数值包围的点。**\n",
    "\n",
    "- `a = np.array([1, 3, 7, 1, 2, 6, 0, 1])`\n",
    "\n",
    "【知识点：数学函数、搜索】\n",
    "- 如何在一维数组中找到所有的局部极大值（或峰值）？"
   ]
  },
  {
   "cell_type": "code",
   "execution_count": 2,
   "metadata": {},
   "outputs": [
    {
     "name": "stdout",
     "output_type": "stream",
     "text": [
      "[ 2  4 -6  1  4 -6  1]\n",
      "[ 1  1 -1  1  1 -1  1]\n",
      "[ 0 -2  2  0 -2  2]\n",
      "[2 5]\n"
     ]
    }
   ],
   "source": [
    "a = np.array([1, 3, 7, 1, 2, 6, 0, 1])\n",
    "b1 = np.diff(a)\n",
    "b2 = np.sign(b1)  # 寻找拐点，从1变为-1\n",
    "b3 = np.diff(b2)\n",
    "\n",
    "print(b1)\n",
    "print(b2)\n",
    "print(b3)\n",
    "index = np.where(np.equal(b3, -2))[0] + 1\n",
    "print(index)"
   ]
  },
  {
   "cell_type": "markdown",
   "metadata": {},
   "source": [
    "### **对于给定的一维数组，计算窗口大小为3的移动平均值。**\n",
    "\n",
    "- `z = np.random.randint(10, size=10)`\n",
    "\n",
    "【知识点：数学函数】\n",
    "- 如何计算numpy数组的移动平均值？"
   ]
  },
  {
   "cell_type": "code",
   "execution_count": 3,
   "metadata": {},
   "outputs": [
    {
     "name": "stdout",
     "output_type": "stream",
     "text": [
      "[3 2 8 7 3 6 6 6 4 3]\n",
      "[4.33 5.67 6.   5.33 5.   6.   5.33 4.33]\n"
     ]
    }
   ],
   "source": [
    "z = np.random.randint(10, size=10)\n",
    "print(z)\n",
    "\n",
    "def MovingAverage(arr, n=3):\n",
    "    a = np.cumsum(arr)  # 累加\n",
    "    a[n:] = a[n:] - a[:-n]  # 步长等于累加相减\n",
    "    return a[n - 1:] / n  # 去除头部数据\n",
    "\n",
    "\n",
    "r = MovingAverage(z, 3)\n",
    "print(np.around(r, 2))"
   ]
  },
  {
   "cell_type": "markdown",
   "metadata": {},
   "source": [
    "### **对一个5x5的随机矩阵做归一化**\n",
    "\n",
    "-`Z = np.random.random((5,5))` \n",
    "\n",
    "【知识点：数学函数】\n",
    "- (提示: (x - min) / (max - min))"
   ]
  },
  {
   "cell_type": "code",
   "execution_count": 4,
   "metadata": {},
   "outputs": [
    {
     "name": "stdout",
     "output_type": "stream",
     "text": [
      "[[0.70004589 0.07457217 0.01016937 0.05806848 0.56559092]\n",
      " [0.65046383 0.95814588 0.07163837 0.83028161 0.16321713]\n",
      " [0.00888159 0.15547033 0.16069554 0.12103564 0.35717854]\n",
      " [0.86150364 0.31492337 0.29432392 0.92207594 0.64328052]\n",
      " [0.39481351 0.1538006  0.69760999 0.46063829 0.41353295]]\n",
      "[[ 0.69  0.07  0.    0.05  0.56]\n",
      " [ 0.64  0.95  0.06  0.82  0.15]\n",
      " [-0.    0.15  0.15  0.11  0.35]\n",
      " [ 0.85  0.31  0.28  0.91  0.63]\n",
      " [ 0.39  0.14  0.69  0.45  0.4 ]]\n"
     ]
    }
   ],
   "source": [
    "z = np.random.random((5,5))\n",
    "print(z)\n",
    "r = z - z.min()/(z.max() - z.min())\n",
    "print(np.around(r, 2))"
   ]
  },
  {
   "cell_type": "markdown",
   "metadata": {},
   "source": [
    "### **用五种不同的方法去提取一个随机数组的整数部分**\n",
    "\n",
    "- `Z = np.random.uniform(0,10,10) `\n",
    "\n",
    "【知识点：数学函数】\n",
    "\n",
    "- (提示: %, np.floor, np.ceil, astype, np.trunc)"
   ]
  },
  {
   "cell_type": "code",
   "execution_count": 5,
   "metadata": {},
   "outputs": [
    {
     "name": "stdout",
     "output_type": "stream",
     "text": [
      "[0.79548206 6.18608402 0.33693082 3.09321382 2.33122523 9.29554263\n",
      " 4.8544642  1.85340678 5.99238896 9.98148882]\n",
      "[0. 6. 0. 3. 2. 9. 4. 1. 5. 9.]\n",
      "[0. 6. 0. 3. 2. 9. 4. 1. 5. 9.]\n",
      "[0. 6. 0. 3. 2. 9. 4. 1. 5. 9.]\n",
      "[0. 6. 0. 3. 2. 9. 4. 1. 5. 9.]\n",
      "[0 6 0 3 2 9 4 1 5 9]\n"
     ]
    }
   ],
   "source": [
    "z = np.random.uniform(0,10,10)\n",
    "print(z)\n",
    "print(z // 1)\n",
    "print(np.ceil(z) - 1)\n",
    "print(np.floor(z))\n",
    "print(np.trunc(z))\n",
    "print(z.astype(np.int_))"
   ]
  },
  {
   "attachments": {
    "image.png": {
     "image/png": "[encoded data removed]"
    }
   },
   "cell_type": "markdown",
   "metadata": {},
   "source": [
    "### **考虑一维数组Z，构建一个二维数组，其第一行为（Z [0]，Z [1]，Z [2]），随后的每一行都移位1（最后一行应为（Z [ -3]，Z [-2]，Z [-1]）**\n",
    "\n",
    "【知识点：数学函数】\n",
    "\n",
    "- （提示np.lib.stride_tricks）\n",
    "\n",
    "[0, 1, 2, 3, 4, 5, 6, 7, 8, 9]--------> ![image.png](attachment:image.png) "
   ]
  },
  {
   "cell_type": "code",
   "execution_count": 6,
   "metadata": {},
   "outputs": [
    {
     "name": "stdout",
     "output_type": "stream",
     "text": [
      "[0 1 2 3 4 5 6 7 8 9]\n",
      "[[0 1 2]\n",
      " [1 2 3]\n",
      " [2 3 4]\n",
      " [3 4 5]\n",
      " [4 5 6]\n",
      " [5 6 7]\n",
      " [6 7 8]\n",
      " [7 8 9]]\n"
     ]
    }
   ],
   "source": [
    "z = np.arange(10)\n",
    "print(z)\n",
    "a = np.lib.stride_tricks.as_strided(z, shape=(8, 3), strides=(z.itemsize, z.itemsize))\n",
    "print(a)"
   ]
  },
  {
   "cell_type": "markdown",
   "metadata": {},
   "source": [
    "### **考虑两组点集P0和P1去描述一组线(二维)和一个点p,如何计算点p到每一条线 i (P0[i],P1[i])的距离？**\n",
    "- `P0 = np.random.uniform(-10,10,(10,2))\n",
    "P1 = np.random.uniform(-10,10,(10,2))\n",
    "p  = np.random.uniform(-10,10,( 1,2))`\n",
    "\n",
    "【知识点：数学函数】\n",
    "- 提示 设P(x0,y0)，直线方程为：Ax+By+C=0\n",
    "则P到直线的距离为:d=|Ax0+By0+C|/√(A²+B²)"
   ]
  },
  {
   "cell_type": "code",
   "execution_count": 7,
   "metadata": {},
   "outputs": [
    {
     "name": "stdout",
     "output_type": "stream",
     "text": [
      "[[-9.81947996 -5.84413822]\n",
      " [ 8.42294333  0.32290592]\n",
      " [ 0.85800404 -9.58329277]\n",
      " [-4.9721443   6.84386161]\n",
      " [ 5.57650884  5.75311804]\n",
      " [-0.25254538 -3.83336735]\n",
      " [-3.64095991 -0.05422132]\n",
      " [ 8.54735565 -9.8469833 ]\n",
      " [ 5.93322854 -7.81407481]\n",
      " [ 6.55099962 -2.76694134]]\n",
      "[[ 3.95714714  5.60563391]\n",
      " [-3.13069236 -1.41239603]\n",
      " [ 2.6875637  -6.1421752 ]\n",
      " [-8.23332907 -2.06791159]\n",
      " [-1.44445936  9.73346154]\n",
      " [ 4.11622448 -1.78302132]\n",
      " [-6.04696022  9.95958887]\n",
      " [-0.34678687 -8.87102616]\n",
      " [-4.97631405 -1.07204863]\n",
      " [ 7.63055298 -8.79714681]]\n",
      "[11.44977213 -1.73530195  3.44111757 -8.91177319  3.9803435   2.05034603\n",
      " 10.01381019  0.97595714  6.74202618 -6.03020547] [-13.77662709  11.55363569  -1.82955966   3.26118477   7.02096821\n",
      "  -4.36876986   2.40600031   8.89414252  10.90954259  -1.07955336] [ 31.918295    10.88561264 -20.48569861 -66.62971952 -62.58887957\n",
      " -16.22929431  36.59033791  79.23862015  45.24599978  36.51681289]\n",
      "[ 1.67165734  2.91670366  8.24385115  3.09969187 14.83709074  1.55185492\n",
      "  3.32589146  3.45650073  3.65467452 12.63643759]\n"
     ]
    }
   ],
   "source": [
    "\"\"\"\n",
    "(x-x0)/(x1-x0) = (y-y0)/(y1-y0)\n",
    "(y1-y0)(x-x0) = (x1-x0)(y-y0)\n",
    "(y1-y0)x + (x0-x1)y + (y0-y1)x0 + (x1-x0)y0 = 0\n",
    "A = (y1-y0)\n",
    "B = (x0-x1)\n",
    "C = (y0-y1)x0 + (x1-x0)y0\n",
    "\"\"\"\n",
    "P0 = np.random.uniform(-10,10,(10,2))\n",
    "P1 = np.random.uniform(-10,10,(10,2))\n",
    "p  = np.random.uniform(-10,10,( 1,2))\n",
    "A = P1[:, 1] - P0[:, 1]\n",
    "B = P0[:, 0] - P1[:, 0]\n",
    "C = (P0[:, 1] - P1[:, 1]) * P0[:, 0] + (P1[:, 0] - P0[:, 0]) * P0[:, 1]\n",
    "print(P0)\n",
    "print(P1)\n",
    "print(A, B, C)\n",
    "d = np.abs(A * p[:, 0] + B * p[:, 1] + C) / np.sqrt(np.power(A, 2) + np.power(B, 2))\n",
    "print(d)"
   ]
  },
  {
   "cell_type": "markdown",
   "metadata": {},
   "source": [
    "### **画正弦函数和余弦函数， x = np.arange(0, 3 * np.pi, 0.1)？**\n",
    "【知识点：数学函数】"
   ]
  },
  {
   "cell_type": "code",
   "execution_count": 8,
   "metadata": {},
   "outputs": [
    {
     "data": {
      "text/plain": [
       "[<matplotlib.lines.Line2D at 0x11f0ac7d0>]"
      ]
     },
     "execution_count": 8,
     "metadata": {},
     "output_type": "execute_result"
    },
    {
     "data": {
      "image/png": "[encoded data removed]",
      "text/plain": [
       "<Figure size 432x288 with 1 Axes>"
      ]
     },
     "metadata": {
      "needs_background": "light"
     },
     "output_type": "display_data"
    }
   ],
   "source": [
    "%matplotlib inline\n",
    "from matplotlib import pyplot as plt\n",
    "x = np.arange(0, 3*np.pi, 0.1)\n",
    "y1 = np.sin(x)\n",
    "y2 = np.cos(x)\n",
    "plt.plot(x, y1)\n",
    "plt.plot(x, y2)"
   ]
  },
  {
   "cell_type": "markdown",
   "metadata": {},
   "source": [
    "### **减去矩阵每一行的平均值 ？**\n",
    "【知识点：数学函数】\n",
    "- 提示: mean(axis=,keepdims=)"
   ]
  },
  {
   "cell_type": "code",
   "execution_count": 9,
   "metadata": {},
   "outputs": [
    {
     "name": "stdout",
     "output_type": "stream",
     "text": [
      "[[6.33428692 3.94325743 5.54248288 5.48864023 4.60941151]\n",
      " [9.25782988 6.50084368 2.14521546 9.06185187 9.94814836]\n",
      " [2.57003342 1.91237827 3.76773888 0.69036479 6.47911717]\n",
      " [3.80264494 4.79726941 9.99996202 6.84535327 6.64609145]\n",
      " [8.5428422  8.51384294 6.74751487 5.52770622 1.82511981]]\n"
     ]
    },
    {
     "data": {
      "text/plain": [
       "array([[ 1.15067113, -1.24035837,  0.35886708,  0.30502443, -0.57420428],\n",
       "       [ 1.87505203, -0.88193417, -5.23756239,  1.67907402,  2.56537052],\n",
       "       [-0.51389309, -1.17154823,  0.68381237, -2.39356172,  3.39519067],\n",
       "       [-2.61561928, -1.62099481,  3.5816978 ,  0.42708906,  0.22782723],\n",
       "       [ 2.31143699,  2.28243773,  0.51610966, -0.70369899, -4.4062854 ]])"
      ]
     },
     "execution_count": 9,
     "metadata": {},
     "output_type": "execute_result"
    }
   ],
   "source": [
    "a = np.random.uniform(0,10,(5,5))\n",
    "print(a)\n",
    "a - a.mean(axis=1, keepdims=True)"
   ]
  },
  {
   "cell_type": "markdown",
   "metadata": {},
   "source": [
    "### **进行概率统计分析 ？**\n",
    "- `arr1 = np.random.randint(1,10,10)\n",
    "arr2 = np.random.randint(1,10,10))\n",
    "【知识点：数学函数】 \n",
    "平均数，中位数，方差，标准差，相关性矩阵，协方差矩阵等`\n"
   ]
  },
  {
   "cell_type": "code",
   "execution_count": 10,
   "metadata": {},
   "outputs": [
    {
     "name": "stdout",
     "output_type": "stream",
     "text": [
      "[3 1 8 5 3 1 4 8 6 9]\n",
      "[5 7 8 1 7 1 4 6 1 1]\n",
      "4.8\n",
      "4.5\n",
      "2.749545416973504\n",
      "[[ 8.4        -0.53333333]\n",
      " [-0.53333333  8.32222222]]\n",
      "[[ 1.         -0.06378807]\n",
      " [-0.06378807  1.        ]]\n"
     ]
    }
   ],
   "source": [
    "arr1 = np.random.randint(1,10,10)\n",
    "arr2 = np.random.randint(1,10,10)\n",
    "print(arr1)\n",
    "print(arr2)\n",
    "print(np.mean(arr1))\n",
    "print(np.median(arr1))\n",
    "print(np.std(arr1))\n",
    "print(np.cov(arr1,arr2))  # covariance matrix\n",
    "print(np.corrcoef(arr1,arr2))  # correlation coefficient matrix"
   ]
  },
  {
   "cell_type": "markdown",
   "metadata": {},
   "source": [
    "## 逻辑函数"
   ]
  },
  {
   "cell_type": "markdown",
   "metadata": {},
   "source": [
    "### **获取a和b元素匹配的位置。**\n",
    "- `a = np.array([1, 2, 3, 2, 3, 4, 3, 4, 5, 6])`\n",
    "- `b = np.array([7, 2, 10, 2, 7, 4, 9, 4, 9, 8])`\n",
    "\n",
    "【知识点：逻辑函数】\n",
    "- 如何得到两个数组元素匹配的位置？"
   ]
  },
  {
   "cell_type": "code",
   "execution_count": 11,
   "metadata": {},
   "outputs": [
    {
     "data": {
      "text/plain": [
       "(array([1, 3, 5, 7]),)"
      ]
     },
     "execution_count": 11,
     "metadata": {},
     "output_type": "execute_result"
    }
   ],
   "source": [
    "a = np.array([1, 2, 3, 2, 3, 4, 3, 4, 5, 6])\n",
    "b = np.array([7, 2, 10, 2, 7, 4, 9, 4, 9, 8])\n",
    "np.where(a == b)"
   ]
  },
  {
   "cell_type": "markdown",
   "metadata": {},
   "source": [
    "### **获取5到10 之间的所有元素。**\n",
    "- `a = np.array([2, 6, 1, 9, 10, 3, 27])`\n",
    "\n",
    "【知识点：逻辑函数】\n",
    "- 如何从numpy数组中提取给定范围内的所有元素？"
   ]
  },
  {
   "cell_type": "code",
   "execution_count": 12,
   "metadata": {},
   "outputs": [
    {
     "data": {
      "text/plain": [
       "array([6, 9])"
      ]
     },
     "execution_count": 12,
     "metadata": {},
     "output_type": "execute_result"
    }
   ],
   "source": [
    "a = np.array([2, 6, 1, 9, 10, 3, 27])\n",
    "a[np.logical_and(a > 5, a < 10)]"
   ]
  },
  {
   "cell_type": "markdown",
   "metadata": {},
   "source": [
    "### **对于两个随机数组A和B,检查他们是否相等**\n",
    "- `A = np.random.randint(0,2,5)\n",
    "B = np.random.randint(0,2,5)`\n",
    "\n",
    "【知识点：逻辑函数】\n",
    "\n",
    "- (提示: np.allclose, np.array_equal)"
   ]
  },
  {
   "cell_type": "code",
   "execution_count": 13,
   "metadata": {},
   "outputs": [
    {
     "name": "stdout",
     "output_type": "stream",
     "text": [
      "[0 1 0 0 1]\n",
      "[0 0 1 1 0]\n",
      "False\n",
      "False\n"
     ]
    }
   ],
   "source": [
    "A = np.random.randint(0,2,5)\n",
    "B = np.random.randint(0,2,5)\n",
    "print(A)\n",
    "print(B)\n",
    "print(np.allclose(A, B))\n",
    "print(np.array_equal(A, B))"
   ]
  },
  {
   "cell_type": "markdown",
   "metadata": {},
   "source": [
    "### **如何对布尔值取反，或者原位(in-place)改变浮点数的符号(sign)？**\n",
    "\n",
    "【知识点：逻辑函数】\n",
    "- (提示: np.logical_not, np.negative)"
   ]
  },
  {
   "cell_type": "code",
   "execution_count": 14,
   "metadata": {},
   "outputs": [
    {
     "name": "stdout",
     "output_type": "stream",
     "text": [
      "[-6.03556119  5.70758069 -9.93003348  5.22459002  4.51032944 -6.65039407\n",
      "  8.63811895 -8.93972729  0.5834581   2.7304042 ]\n",
      "[False  True False  True  True False  True False  True  True]\n",
      "[ True False  True False False  True False  True False False]\n",
      "[ 6.03556119 -5.70758069  9.93003348 -5.22459002 -4.51032944  6.65039407\n",
      " -8.63811895  8.93972729 -0.5834581  -2.7304042 ]\n"
     ]
    }
   ],
   "source": [
    "a = np.random.uniform(-10,10,10)\n",
    "print(a)\n",
    "print(a > 0)\n",
    "print(np.logical_not(a > 0))\n",
    "print(np.negative(a))"
   ]
  },
  {
   "cell_type": "markdown",
   "metadata": {},
   "source": [
    "### **找出数组中与给定值最接近的数**\n",
    "\n",
    "【知识点：逻辑函数】\n",
    "- (提示: np.abs().argmin())"
   ]
  },
  {
   "cell_type": "code",
   "execution_count": 15,
   "metadata": {},
   "outputs": [
    {
     "name": "stdout",
     "output_type": "stream",
     "text": [
      "[0.2921642  0.40897401 0.72924802 0.37527037 0.15386231 0.72810947\n",
      " 0.52788842 0.57729063 0.96893183 0.45333691]\n",
      "0.8824318832916034\n"
     ]
    },
    {
     "data": {
      "text/plain": [
       "0.9689318293596154"
      ]
     },
     "execution_count": 15,
     "metadata": {},
     "output_type": "execute_result"
    }
   ],
   "source": [
    "rng = np.random.default_rng()\n",
    "a = rng.random(10)\n",
    "b = rng.random()\n",
    "print(a)\n",
    "print(b)\n",
    "a[np.argmin(np.abs(a - b))]"
   ]
  }
 ],
 "metadata": {
  "kernelspec": {
   "display_name": "Python 3",
   "language": "python",
   "name": "python3"
  },
  "language_info": {
   "codemirror_mode": {
    "name": "ipython",
    "version": 3
   },
   "file_extension": ".py",
   "mimetype": "text/x-python",
   "name": "python",
   "nbconvert_exporter": "python",
   "pygments_lexer": "ipython3",
   "version": "3.7.7"
  },
  "toc": {
   "base_numbering": 1,
   "nav_menu": {},
   "number_sections": true,
   "sideBar": true,
   "skip_h1_title": false,
   "title_cell": "Table of Contents",
   "title_sidebar": "Contents",
   "toc_cell": false,
   "toc_position": {},
   "toc_section_display": true,
   "toc_window_display": false
  },
  "varInspector": {
   "cols": {
    "lenName": 16,
    "lenType": 16,
    "lenVar": 40
   },
   "kernels_config": {
    "python": {
     "delete_cmd_postfix": "",
     "delete_cmd_prefix": "del ",
     "library": "var_list.py",
     "varRefreshCmd": "print(var_dic_list())"
    },
    "r": {
     "delete_cmd_postfix": ") ",
     "delete_cmd_prefix": "rm(",
     "library": "var_list.r",
     "varRefreshCmd": "cat(var_dic_list()) "
    }
   },
   "types_to_exclude": [
    "module",
    "function",
    "builtin_function_or_method",
    "instance",
    "_Feature"
   ],
   "window_display": false
  }
 },
 "nbformat": 4,
 "nbformat_minor": 4
}
